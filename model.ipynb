{
 "cells": [
  {
   "cell_type": "code",
   "execution_count": 1,
   "id": "86f9f21b",
   "metadata": {},
   "outputs": [],
   "source": [
    "# import important libraries\n",
    "import pandas as pd\n",
    "import numpy as np\n",
    "import matplotlib.pyplot as plt\n",
    "from sklearn.preprocessing import StandardScaler\n",
    "from sklearn.decomposition import PCA\n",
    "from sklearn.ensemble import IsolationForest\n",
    "from sklearn.cluster import DBSCAN\n",
    "from sklearn.cluster import KMeans\n",
    "import joblib"
   ]
  },
  {
   "cell_type": "code",
   "execution_count": 56,
   "id": "7bec683b",
   "metadata": {},
   "outputs": [
    {
     "data": {
      "text/html": [
       "<div>\n",
       "<style scoped>\n",
       "    .dataframe tbody tr th:only-of-type {\n",
       "        vertical-align: middle;\n",
       "    }\n",
       "\n",
       "    .dataframe tbody tr th {\n",
       "        vertical-align: top;\n",
       "    }\n",
       "\n",
       "    .dataframe thead th {\n",
       "        text-align: right;\n",
       "    }\n",
       "</style>\n",
       "<table border=\"1\" class=\"dataframe\">\n",
       "  <thead>\n",
       "    <tr style=\"text-align: right;\">\n",
       "      <th></th>\n",
       "      <th>false_starts</th>\n",
       "      <th>hedge_words</th>\n",
       "      <th>hesitations</th>\n",
       "      <th>silent_pauses</th>\n",
       "      <th>incomplete_sent</th>\n",
       "      <th>pitch_variability</th>\n",
       "      <th>speech_rate</th>\n",
       "      <th>naming_association</th>\n",
       "      <th>word_repetitions</th>\n",
       "      <th>hesitations/length</th>\n",
       "      <th>label</th>\n",
       "    </tr>\n",
       "  </thead>\n",
       "  <tbody>\n",
       "    <tr>\n",
       "      <th>0</th>\n",
       "      <td>0</td>\n",
       "      <td>0</td>\n",
       "      <td>2</td>\n",
       "      <td>0</td>\n",
       "      <td>0</td>\n",
       "      <td>35.002844</td>\n",
       "      <td>0.189103</td>\n",
       "      <td>0</td>\n",
       "      <td>0</td>\n",
       "      <td>0.003040</td>\n",
       "      <td>0</td>\n",
       "    </tr>\n",
       "    <tr>\n",
       "      <th>1</th>\n",
       "      <td>0</td>\n",
       "      <td>5</td>\n",
       "      <td>11</td>\n",
       "      <td>0</td>\n",
       "      <td>1</td>\n",
       "      <td>61.344519</td>\n",
       "      <td>0.168911</td>\n",
       "      <td>1</td>\n",
       "      <td>1</td>\n",
       "      <td>0.019366</td>\n",
       "      <td>1</td>\n",
       "    </tr>\n",
       "    <tr>\n",
       "      <th>2</th>\n",
       "      <td>0</td>\n",
       "      <td>1</td>\n",
       "      <td>1</td>\n",
       "      <td>1</td>\n",
       "      <td>2</td>\n",
       "      <td>52.830361</td>\n",
       "      <td>0.201410</td>\n",
       "      <td>3</td>\n",
       "      <td>0</td>\n",
       "      <td>0.001597</td>\n",
       "      <td>0</td>\n",
       "    </tr>\n",
       "    <tr>\n",
       "      <th>3</th>\n",
       "      <td>0</td>\n",
       "      <td>2</td>\n",
       "      <td>2</td>\n",
       "      <td>0</td>\n",
       "      <td>1</td>\n",
       "      <td>36.410831</td>\n",
       "      <td>0.230560</td>\n",
       "      <td>2</td>\n",
       "      <td>0</td>\n",
       "      <td>0.003021</td>\n",
       "      <td>0</td>\n",
       "    </tr>\n",
       "    <tr>\n",
       "      <th>4</th>\n",
       "      <td>0</td>\n",
       "      <td>7</td>\n",
       "      <td>4</td>\n",
       "      <td>0</td>\n",
       "      <td>2</td>\n",
       "      <td>53.064223</td>\n",
       "      <td>0.136143</td>\n",
       "      <td>0</td>\n",
       "      <td>0</td>\n",
       "      <td>0.007968</td>\n",
       "      <td>1</td>\n",
       "    </tr>\n",
       "    <tr>\n",
       "      <th>5</th>\n",
       "      <td>1</td>\n",
       "      <td>4</td>\n",
       "      <td>6</td>\n",
       "      <td>12</td>\n",
       "      <td>2</td>\n",
       "      <td>47.152534</td>\n",
       "      <td>0.171429</td>\n",
       "      <td>4</td>\n",
       "      <td>1</td>\n",
       "      <td>0.009202</td>\n",
       "      <td>1</td>\n",
       "    </tr>\n",
       "    <tr>\n",
       "      <th>6</th>\n",
       "      <td>0</td>\n",
       "      <td>0</td>\n",
       "      <td>3</td>\n",
       "      <td>3</td>\n",
       "      <td>0</td>\n",
       "      <td>50.078914</td>\n",
       "      <td>0.193836</td>\n",
       "      <td>0</td>\n",
       "      <td>0</td>\n",
       "      <td>0.007160</td>\n",
       "      <td>0</td>\n",
       "    </tr>\n",
       "    <tr>\n",
       "      <th>7</th>\n",
       "      <td>0</td>\n",
       "      <td>3</td>\n",
       "      <td>2</td>\n",
       "      <td>0</td>\n",
       "      <td>0</td>\n",
       "      <td>61.536519</td>\n",
       "      <td>0.164216</td>\n",
       "      <td>0</td>\n",
       "      <td>0</td>\n",
       "      <td>0.003200</td>\n",
       "      <td>0</td>\n",
       "    </tr>\n",
       "    <tr>\n",
       "      <th>8</th>\n",
       "      <td>0</td>\n",
       "      <td>1</td>\n",
       "      <td>4</td>\n",
       "      <td>0</td>\n",
       "      <td>1</td>\n",
       "      <td>40.381104</td>\n",
       "      <td>0.157258</td>\n",
       "      <td>0</td>\n",
       "      <td>0</td>\n",
       "      <td>0.021390</td>\n",
       "      <td>0</td>\n",
       "    </tr>\n",
       "    <tr>\n",
       "      <th>9</th>\n",
       "      <td>0</td>\n",
       "      <td>1</td>\n",
       "      <td>3</td>\n",
       "      <td>0</td>\n",
       "      <td>1</td>\n",
       "      <td>52.416026</td>\n",
       "      <td>0.110801</td>\n",
       "      <td>2</td>\n",
       "      <td>1</td>\n",
       "      <td>0.006550</td>\n",
       "      <td>1</td>\n",
       "    </tr>\n",
       "    <tr>\n",
       "      <th>10</th>\n",
       "      <td>0</td>\n",
       "      <td>0</td>\n",
       "      <td>3</td>\n",
       "      <td>7</td>\n",
       "      <td>0</td>\n",
       "      <td>66.241990</td>\n",
       "      <td>0.183197</td>\n",
       "      <td>2</td>\n",
       "      <td>0</td>\n",
       "      <td>0.003690</td>\n",
       "      <td>0</td>\n",
       "    </tr>\n",
       "  </tbody>\n",
       "</table>\n",
       "</div>"
      ],
      "text/plain": [
       "    false_starts  hedge_words  hesitations  silent_pauses  incomplete_sent  \\\n",
       "0              0            0            2              0                0   \n",
       "1              0            5           11              0                1   \n",
       "2              0            1            1              1                2   \n",
       "3              0            2            2              0                1   \n",
       "4              0            7            4              0                2   \n",
       "5              1            4            6             12                2   \n",
       "6              0            0            3              3                0   \n",
       "7              0            3            2              0                0   \n",
       "8              0            1            4              0                1   \n",
       "9              0            1            3              0                1   \n",
       "10             0            0            3              7                0   \n",
       "\n",
       "    pitch_variability  speech_rate  naming_association  word_repetitions  \\\n",
       "0           35.002844     0.189103                   0                 0   \n",
       "1           61.344519     0.168911                   1                 1   \n",
       "2           52.830361     0.201410                   3                 0   \n",
       "3           36.410831     0.230560                   2                 0   \n",
       "4           53.064223     0.136143                   0                 0   \n",
       "5           47.152534     0.171429                   4                 1   \n",
       "6           50.078914     0.193836                   0                 0   \n",
       "7           61.536519     0.164216                   0                 0   \n",
       "8           40.381104     0.157258                   0                 0   \n",
       "9           52.416026     0.110801                   2                 1   \n",
       "10          66.241990     0.183197                   2                 0   \n",
       "\n",
       "    hesitations/length  label  \n",
       "0             0.003040      0  \n",
       "1             0.019366      1  \n",
       "2             0.001597      0  \n",
       "3             0.003021      0  \n",
       "4             0.007968      1  \n",
       "5             0.009202      1  \n",
       "6             0.007160      0  \n",
       "7             0.003200      0  \n",
       "8             0.021390      0  \n",
       "9             0.006550      1  \n",
       "10            0.003690      0  "
      ]
     },
     "execution_count": 56,
     "metadata": {},
     "output_type": "execute_result"
    }
   ],
   "source": [
    "# import the dataset\n",
    "df = pd.read_csv('output.csv')\n",
    "df = df.sample(frac=1, random_state=42).reset_index(drop=True)\n",
    "df"
   ]
  },
  {
   "cell_type": "code",
   "execution_count": 57,
   "id": "57638c9d",
   "metadata": {},
   "outputs": [],
   "source": [
    "# drop the label column and save to df_trans\n",
    "df_trans = df.drop([\"label\"] , axis = 1)"
   ]
  },
  {
   "cell_type": "code",
   "execution_count": 58,
   "id": "a9622538",
   "metadata": {},
   "outputs": [],
   "source": [
    "# use standard scaler for scaling\n",
    "ss = StandardScaler()\n",
    "df_scaled = ss.fit_transform(df_trans)"
   ]
  },
  {
   "cell_type": "code",
   "execution_count": 59,
   "id": "2dfc389f",
   "metadata": {},
   "outputs": [],
   "source": [
    "# perform pca to get two important columns \n",
    "pca = PCA(n_components=2)\n",
    "pca_scaled = pca.fit_transform(df_scaled)"
   ]
  },
  {
   "cell_type": "code",
   "execution_count": 60,
   "id": "1438303c",
   "metadata": {},
   "outputs": [],
   "source": [
    "# For PCA 1 components\n",
    "# Get indices of top 1 features by absolute weight\n",
    "top_pc1_indices = np.argsort(np.abs(pca.components_[:1]))[: ,-1:]\n",
    "# Corresponding feature names\n",
    "pc1_top_features = [df_trans.columns[top_pc1_indices[0][0]]]"
   ]
  },
  {
   "cell_type": "code",
   "execution_count": 61,
   "id": "1f653ccd",
   "metadata": {},
   "outputs": [
    {
     "data": {
      "text/plain": [
       "['word_repetitions']"
      ]
     },
     "execution_count": 61,
     "metadata": {},
     "output_type": "execute_result"
    }
   ],
   "source": [
    "pc1_top_features"
   ]
  },
  {
   "cell_type": "code",
   "execution_count": 62,
   "id": "7d38aa41",
   "metadata": {},
   "outputs": [],
   "source": [
    "# for PCA 2 components\n",
    "# Get indices of top 1 features by absolute weight\n",
    "top_pc2_indices = np.argsort(np.abs([pca.components_[1 , :]]))[: ,-1:]\n",
    "# Corresponding feature names\n",
    "pc2_top_features = [df_trans.columns[top_pc2_indices[0][0]]]"
   ]
  },
  {
   "cell_type": "code",
   "execution_count": 63,
   "id": "ec8d67c5",
   "metadata": {},
   "outputs": [
    {
     "data": {
      "text/plain": [
       "['naming_association']"
      ]
     },
     "execution_count": 63,
     "metadata": {},
     "output_type": "execute_result"
    }
   ],
   "source": [
    "pc2_top_features"
   ]
  },
  {
   "cell_type": "code",
   "execution_count": 64,
   "id": "8ba7dda3",
   "metadata": {},
   "outputs": [
    {
     "data": {
      "text/plain": [
       "<matplotlib.collections.PathCollection at 0x2547b2192e0>"
      ]
     },
     "execution_count": 64,
     "metadata": {},
     "output_type": "execute_result"
    },
    {
     "data": {
      "image/png": "[encoded data removed]",
      "text/plain": [
       "<Figure size 640x480 with 1 Axes>"
      ]
     },
     "metadata": {},
     "output_type": "display_data"
    }
   ],
   "source": [
    "# visualization using scatter plot\n",
    "plt.scatter(pca_scaled[: , 0] , pca_scaled[: , 1] , c = df[\"label\"])"
   ]
  },
  {
   "cell_type": "markdown",
   "id": "13a69037",
   "metadata": {},
   "source": [
    "ANOMALY DETECTION USING ISOLATION FOREST"
   ]
  },
  {
   "cell_type": "code",
   "execution_count": 67,
   "id": "d671e8cd",
   "metadata": {},
   "outputs": [],
   "source": [
    "# initializes and fit the data\n",
    "clf = IsolationForest(contamination='auto')\n",
    "clf.fit(pca_scaled)\n",
    "predictions= clf.predict(pca_scaled)"
   ]
  },
  {
   "cell_type": "code",
   "execution_count": 68,
   "id": "28e1d748",
   "metadata": {},
   "outputs": [
    {
     "data": {
      "text/plain": [
       "<matplotlib.collections.PathCollection at 0x2547b28c9e0>"
      ]
     },
     "execution_count": 68,
     "metadata": {},
     "output_type": "execute_result"
    },
    {
     "data": {
      "image/png": "[encoded data removed]",
      "text/plain": [
       "<Figure size 640x480 with 1 Axes>"
      ]
     },
     "metadata": {},
     "output_type": "display_data"
    }
   ],
   "source": [
    "# visualization the result of isolation forest\n",
    "index= np.where(predictions<0)\n",
    "plt.scatter(pca_scaled[: ,0] , pca_scaled[: , 1])\n",
    "plt.scatter(pca_scaled[index , 0] , pca_scaled[index , 1])"
   ]
  },
  {
   "cell_type": "markdown",
   "id": "94e5513c",
   "metadata": {},
   "source": [
    "ANOMALY DETECTION USING DBSCAN"
   ]
  },
  {
   "cell_type": "code",
   "execution_count": 69,
   "id": "cf7041ce",
   "metadata": {},
   "outputs": [],
   "source": [
    "# initializes and fit the data\n",
    "dbscan = DBSCAN(eps = 0.4)\n",
    "dbscan.fit(pca_scaled)\n",
    "predictions =dbscan.fit_predict(pca_scaled)"
   ]
  },
  {
   "cell_type": "code",
   "execution_count": 70,
   "id": "4a026f9b",
   "metadata": {},
   "outputs": [
    {
     "data": {
      "text/plain": [
       "<matplotlib.collections.PathCollection at 0x2547b2bc800>"
      ]
     },
     "execution_count": 70,
     "metadata": {},
     "output_type": "execute_result"
    },
    {
     "data": {
      "image/png": "[encoded data removed]",
      "text/plain": [
       "<Figure size 640x480 with 1 Axes>"
      ]
     },
     "metadata": {},
     "output_type": "display_data"
    }
   ],
   "source": [
    "# visualization the result of DBSCAN\n",
    "plt.scatter(pca_scaled[: , 0] , pca_scaled[:, 1] , c= dbscan.labels_)"
   ]
  },
  {
   "cell_type": "markdown",
   "id": "74adf9f8",
   "metadata": {},
   "source": [
    "USE CLUSTERING FOR PREDICTION (KMeans cluster) "
   ]
  },
  {
   "cell_type": "code",
   "execution_count": 71,
   "id": "23367cfa",
   "metadata": {},
   "outputs": [
    {
     "name": "stderr",
     "output_type": "stream",
     "text": [
      "c:\\Users\\DELL\\anaconda\\Lib\\site-packages\\sklearn\\cluster\\_kmeans.py:1446: UserWarning: KMeans is known to have a memory leak on Windows with MKL, when there are less chunks than available threads. You can avoid it by setting the environment variable OMP_NUM_THREADS=1.\n",
      "  warnings.warn(\n",
      "c:\\Users\\DELL\\anaconda\\Lib\\site-packages\\sklearn\\cluster\\_kmeans.py:1446: UserWarning: KMeans is known to have a memory leak on Windows with MKL, when there are less chunks than available threads. You can avoid it by setting the environment variable OMP_NUM_THREADS=1.\n",
      "  warnings.warn(\n",
      "c:\\Users\\DELL\\anaconda\\Lib\\site-packages\\sklearn\\cluster\\_kmeans.py:1446: UserWarning: KMeans is known to have a memory leak on Windows with MKL, when there are less chunks than available threads. You can avoid it by setting the environment variable OMP_NUM_THREADS=1.\n",
      "  warnings.warn(\n",
      "c:\\Users\\DELL\\anaconda\\Lib\\site-packages\\sklearn\\cluster\\_kmeans.py:1446: UserWarning: KMeans is known to have a memory leak on Windows with MKL, when there are less chunks than available threads. You can avoid it by setting the environment variable OMP_NUM_THREADS=1.\n",
      "  warnings.warn(\n",
      "c:\\Users\\DELL\\anaconda\\Lib\\site-packages\\sklearn\\cluster\\_kmeans.py:1446: UserWarning: KMeans is known to have a memory leak on Windows with MKL, when there are less chunks than available threads. You can avoid it by setting the environment variable OMP_NUM_THREADS=1.\n",
      "  warnings.warn(\n",
      "c:\\Users\\DELL\\anaconda\\Lib\\site-packages\\sklearn\\cluster\\_kmeans.py:1446: UserWarning: KMeans is known to have a memory leak on Windows with MKL, when there are less chunks than available threads. You can avoid it by setting the environment variable OMP_NUM_THREADS=1.\n",
      "  warnings.warn(\n",
      "c:\\Users\\DELL\\anaconda\\Lib\\site-packages\\sklearn\\cluster\\_kmeans.py:1446: UserWarning: KMeans is known to have a memory leak on Windows with MKL, when there are less chunks than available threads. You can avoid it by setting the environment variable OMP_NUM_THREADS=1.\n",
      "  warnings.warn(\n",
      "c:\\Users\\DELL\\anaconda\\Lib\\site-packages\\sklearn\\cluster\\_kmeans.py:1446: UserWarning: KMeans is known to have a memory leak on Windows with MKL, when there are less chunks than available threads. You can avoid it by setting the environment variable OMP_NUM_THREADS=1.\n",
      "  warnings.warn(\n",
      "c:\\Users\\DELL\\anaconda\\Lib\\site-packages\\sklearn\\cluster\\_kmeans.py:1446: UserWarning: KMeans is known to have a memory leak on Windows with MKL, when there are less chunks than available threads. You can avoid it by setting the environment variable OMP_NUM_THREADS=1.\n",
      "  warnings.warn(\n",
      "c:\\Users\\DELL\\anaconda\\Lib\\site-packages\\sklearn\\cluster\\_kmeans.py:1446: UserWarning: KMeans is known to have a memory leak on Windows with MKL, when there are less chunks than available threads. You can avoid it by setting the environment variable OMP_NUM_THREADS=1.\n",
      "  warnings.warn(\n"
     ]
    }
   ],
   "source": [
    "# finding the best k using wcss\n",
    "wcss = []\n",
    "for k in range(1 , 11):\n",
    "    kmeans = KMeans(n_clusters=k , init = 'k-means++')\n",
    "    kmeans.fit(pca_scaled)\n",
    "    wcss.append(kmeans.inertia_)"
   ]
  },
  {
   "cell_type": "code",
   "execution_count": 72,
   "id": "de28d35d",
   "metadata": {},
   "outputs": [
    {
     "data": {
      "text/plain": [
       "([<matplotlib.axis.XTick at 0x2547a1a7380>,\n",
       "  <matplotlib.axis.XTick at 0x2547a157b90>,\n",
       "  <matplotlib.axis.XTick at 0x2547a1a40e0>,\n",
       "  <matplotlib.axis.XTick at 0x2547b30c440>,\n",
       "  <matplotlib.axis.XTick at 0x2547b30cad0>,\n",
       "  <matplotlib.axis.XTick at 0x2547b30d640>,\n",
       "  <matplotlib.axis.XTick at 0x2547b30dfd0>,\n",
       "  <matplotlib.axis.XTick at 0x2547b30e8d0>,\n",
       "  <matplotlib.axis.XTick at 0x2547b30e390>,\n",
       "  <matplotlib.axis.XTick at 0x2547b30f050>],\n",
       " [Text(1, 0, '1'),\n",
       "  Text(2, 0, '2'),\n",
       "  Text(3, 0, '3'),\n",
       "  Text(4, 0, '4'),\n",
       "  Text(5, 0, '5'),\n",
       "  Text(6, 0, '6'),\n",
       "  Text(7, 0, '7'),\n",
       "  Text(8, 0, '8'),\n",
       "  Text(9, 0, '9'),\n",
       "  Text(10, 0, '10')])"
      ]
     },
     "execution_count": 72,
     "metadata": {},
     "output_type": "execute_result"
    },
    {
     "data": {
      "image/png": "[encoded data removed]",
      "text/plain": [
       "<Figure size 640x480 with 1 Axes>"
      ]
     },
     "metadata": {},
     "output_type": "display_data"
    }
   ],
   "source": [
    "##plot elbow curve\n",
    "plt.plot(range(1,11) , wcss)\n",
    "plt.xticks(range(1 ,11))"
   ]
  },
  {
   "cell_type": "code",
   "execution_count": 73,
   "id": "5f926fad",
   "metadata": {},
   "outputs": [
    {
     "name": "stderr",
     "output_type": "stream",
     "text": [
      "c:\\Users\\DELL\\anaconda\\Lib\\site-packages\\sklearn\\cluster\\_kmeans.py:1446: UserWarning: KMeans is known to have a memory leak on Windows with MKL, when there are less chunks than available threads. You can avoid it by setting the environment variable OMP_NUM_THREADS=1.\n",
      "  warnings.warn(\n"
     ]
    }
   ],
   "source": [
    "# we use k = 3 for best prediction \n",
    "kmeans = KMeans(n_clusters=3 , init = 'k-means++' , random_state=0)\n",
    "y_pred = kmeans.fit_predict(pca_scaled)"
   ]
  },
  {
   "cell_type": "code",
   "execution_count": 74,
   "id": "ea763920",
   "metadata": {},
   "outputs": [
    {
     "data": {
      "text/plain": [
       "array([0, 2, 0, 0, 2, 1, 0, 0, 2, 2, 0])"
      ]
     },
     "execution_count": 74,
     "metadata": {},
     "output_type": "execute_result"
    }
   ],
   "source": [
    "y_pred"
   ]
  },
  {
   "cell_type": "code",
   "execution_count": 75,
   "id": "a575e4a2",
   "metadata": {},
   "outputs": [
    {
     "data": {
      "text/plain": [
       "<matplotlib.collections.PathCollection at 0x25478a53fe0>"
      ]
     },
     "execution_count": 75,
     "metadata": {},
     "output_type": "execute_result"
    },
    {
     "data": {
      "image/png": "[encoded data removed]",
      "text/plain": [
       "<Figure size 640x480 with 1 Axes>"
      ]
     },
     "metadata": {},
     "output_type": "display_data"
    }
   ],
   "source": [
    "# visualization the result of kmeans cluster \n",
    "plt.scatter(pca_scaled[: ,0] , pca_scaled[: , 1] , c = y_pred , cmap='viridis')"
   ]
  },
  {
   "cell_type": "markdown",
   "id": "53d5bdf0",
   "metadata": {},
   "source": [
    "AMONG ISOLATION FOREST  , DBSCAN AND KMEANS , WE USE KMEANS BECAUSE IT GIVES GOOD RESULTS AMONG THESE "
   ]
  },
  {
   "cell_type": "code",
   "execution_count": 76,
   "id": "78221eab",
   "metadata": {},
   "outputs": [
    {
     "data": {
      "text/plain": [
       "['my_pca.joblib']"
      ]
     },
     "execution_count": 76,
     "metadata": {},
     "output_type": "execute_result"
    }
   ],
   "source": [
    "# Save the model\n",
    "joblib.dump(kmeans, 'my_model.joblib')\n",
    "# Save the scaler\n",
    "joblib.dump(ss, 'my_scaler.joblib')\n",
    "# save the pca\n",
    "joblib.dump(pca , 'my_pca.joblib')"
   ]
  },
  {
   "cell_type": "code",
   "execution_count": null,
   "id": "6ca9eee8",
   "metadata": {},
   "outputs": [],
   "source": []
  }
 ],
 "metadata": {
  "kernelspec": {
   "display_name": "base",
   "language": "python",
   "name": "python3"
  },
  "language_info": {
   "codemirror_mode": {
    "name": "ipython",
    "version": 3
   },
   "file_extension": ".py",
   "mimetype": "text/x-python",
   "name": "python",
   "nbconvert_exporter": "python",
   "pygments_lexer": "ipython3",
   "version": "3.12.4"
  }
 },
 "nbformat": 4,
 "nbformat_minor": 5
}
